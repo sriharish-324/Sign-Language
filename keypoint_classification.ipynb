{
  "cells": [
    {
      "cell_type": "code",
      "execution_count": 1,
      "metadata": {
        "id": "igMyGnjE9hEp"
      },
      "outputs": [],
      "source": [
        "import csv\n",
        "import numpy as np\n",
        "import tensorflow as tf\n",
        "from sklearn.model_selection import train_test_split\n",
        "\n",
        "RANDOM_SEED = 42"
      ]
    },
    {
      "cell_type": "markdown",
      "metadata": {
        "id": "t2HDvhIu9hEr"
      },
      "source": [
        "# Specify each path"
      ]
    },
    {
      "cell_type": "code",
      "execution_count": 58,
      "metadata": {
        "id": "9NvZP2Zn9hEy"
      },
      "outputs": [],
      "source": [
        "dataset = 'model/keypoint_classifier/keypoint.csv'\n",
        "model_save_path = 'model/keypoint_classifier/keypoint_classifier.hdf5'\n",
        "tflite_save_path = 'model/keypoint_classifier/keypoint_classifier.tflite'"
      ]
    },
    {
      "cell_type": "markdown",
      "metadata": {
        "id": "s5oMH7x19hEz"
      },
      "source": [
        "# Set number of classes"
      ]
    },
    {
      "cell_type": "code",
      "execution_count": 59,
      "metadata": {
        "id": "du4kodXL9hEz"
      },
      "outputs": [],
      "source": [
        "NUM_CLASSES = 5"
      ]
    },
    {
      "cell_type": "markdown",
      "metadata": {
        "id": "XjnL0uso9hEz"
      },
      "source": [
        "# Dataset reading"
      ]
    },
    {
      "cell_type": "code",
      "execution_count": 60,
      "metadata": {
        "id": "QT5ZqtEz9hE0"
      },
      "outputs": [],
      "source": [
        "X_dataset = np.loadtxt(dataset, delimiter=',', dtype='float32', usecols=list(range(1, (21 * 2) + 1)))"
      ]
    },
    {
      "cell_type": "code",
      "execution_count": 61,
      "metadata": {
        "id": "QmoKFsp49hE0"
      },
      "outputs": [],
      "source": [
        "y_dataset = np.loadtxt(dataset, delimiter=',', dtype='int32', usecols=(0))"
      ]
    },
    {
      "cell_type": "code",
      "execution_count": 62,
      "metadata": {
        "id": "xQU7JTZ_9hE0"
      },
      "outputs": [],
      "source": [
        "X_train, X_test, y_train, y_test = train_test_split(X_dataset, y_dataset, train_size=0.75, random_state=RANDOM_SEED)"
      ]
    },
    {
      "cell_type": "markdown",
      "metadata": {
        "id": "mxK_lETT9hE0"
      },
      "source": [
        "# Model building"
      ]
    },
    {
      "cell_type": "code",
      "execution_count": 63,
      "metadata": {
        "id": "vHBmUf1t9hE1"
      },
      "outputs": [],
      "source": [
        "model = tf.keras.models.Sequential([\n",
        "    tf.keras.layers.Input((21 * 2, )),\n",
        "    tf.keras.layers.Dropout(0.2),\n",
        "    tf.keras.layers.Dense(20, activation='relu'),\n",
        "    tf.keras.layers.Dropout(0.4),\n",
        "    tf.keras.layers.Dense(10, activation='relu'),\n",
        "    tf.keras.layers.Dense(NUM_CLASSES, activation='softmax')\n",
        "])"
      ]
    },
    {
      "cell_type": "code",
      "execution_count": 64,
      "metadata": {
        "colab": {
          "base_uri": "https://localhost:8080/"
        },
        "id": "ypqky9tc9hE1",
        "outputId": "5db082bb-30e3-4110-bf63-a1ee777ecd46"
      },
      "outputs": [
        {
          "name": "stdout",
          "output_type": "stream",
          "text": [
            "Model: \"sequential_4\"\n",
            "_________________________________________________________________\n",
            " Layer (type)                Output Shape              Param #   \n",
            "=================================================================\n",
            " dropout_8 (Dropout)         (None, 42)                0         \n",
            "                                                                 \n",
            " dense_12 (Dense)            (None, 20)                860       \n",
            "                                                                 \n",
            " dropout_9 (Dropout)         (None, 20)                0         \n",
            "                                                                 \n",
            " dense_13 (Dense)            (None, 10)                210       \n",
            "                                                                 \n",
            " dense_14 (Dense)            (None, 5)                 55        \n",
            "                                                                 \n",
            "=================================================================\n",
            "Total params: 1,125\n",
            "Trainable params: 1,125\n",
            "Non-trainable params: 0\n",
            "_________________________________________________________________\n"
          ]
        }
      ],
      "source": [
        "model.summary()  # tf.keras.utils.plot_model(model, show_shapes=True)"
      ]
    },
    {
      "cell_type": "code",
      "execution_count": 65,
      "metadata": {
        "id": "MbMjOflQ9hE1"
      },
      "outputs": [],
      "source": [
        "# Model checkpoint callback\n",
        "cp_callback = tf.keras.callbacks.ModelCheckpoint(\n",
        "    model_save_path, verbose=1, save_weights_only=False)\n",
        "# Callback for early stopping\n",
        "es_callback = tf.keras.callbacks.EarlyStopping(patience=20, verbose=1)"
      ]
    },
    {
      "cell_type": "code",
      "execution_count": 66,
      "metadata": {
        "id": "c3Dac0M_9hE2"
      },
      "outputs": [],
      "source": [
        "# Model compilation\n",
        "model.compile(\n",
        "    optimizer='adam',\n",
        "    loss='sparse_categorical_crossentropy',\n",
        "    metrics=['accuracy']\n",
        ")"
      ]
    },
    {
      "cell_type": "markdown",
      "metadata": {
        "id": "7XI0j1Iu9hE2"
      },
      "source": [
        "# Model training"
      ]
    },
    {
      "cell_type": "code",
      "execution_count": 67,
      "metadata": {
        "colab": {
          "base_uri": "https://localhost:8080/"
        },
        "id": "WirBl-JE9hE3",
        "outputId": "71b30ca2-8294-4d9d-8aa2-800d90d399de",
        "scrolled": true
      },
      "outputs": [
        {
          "name": "stdout",
          "output_type": "stream",
          "text": [
            "Epoch 1/1000\n",
            "22/29 [=====================>........] - ETA: 0s - loss: 1.6621 - accuracy: 0.2461 \n",
            "Epoch 1: saving model to model/keypoint_classifier\\keypoint_classifier.hdf5\n",
            "29/29 [==============================] - 1s 11ms/step - loss: 1.6491 - accuracy: 0.2568 - val_loss: 1.5090 - val_accuracy: 0.3784\n",
            "Epoch 2/1000\n",
            "19/29 [==================>...........] - ETA: 0s - loss: 1.5169 - accuracy: 0.3520\n",
            "Epoch 2: saving model to model/keypoint_classifier\\keypoint_classifier.hdf5\n",
            "29/29 [==============================] - 0s 5ms/step - loss: 1.5031 - accuracy: 0.3568 - val_loss: 1.4066 - val_accuracy: 0.4361\n",
            "Epoch 3/1000\n",
            "16/29 [===============>..............] - ETA: 0s - loss: 1.4201 - accuracy: 0.3965\n",
            "Epoch 3: saving model to model/keypoint_classifier\\keypoint_classifier.hdf5\n",
            "29/29 [==============================] - 0s 5ms/step - loss: 1.3975 - accuracy: 0.4022 - val_loss: 1.3072 - val_accuracy: 0.4829\n",
            "Epoch 4/1000\n",
            "20/29 [===================>..........] - ETA: 0s - loss: 1.3351 - accuracy: 0.4355\n",
            "Epoch 4: saving model to model/keypoint_classifier\\keypoint_classifier.hdf5\n",
            "29/29 [==============================] - 0s 5ms/step - loss: 1.3210 - accuracy: 0.4443 - val_loss: 1.1933 - val_accuracy: 0.5773\n",
            "Epoch 5/1000\n",
            "15/29 [==============>...............] - ETA: 0s - loss: 1.2524 - accuracy: 0.4802\n",
            "Epoch 5: saving model to model/keypoint_classifier\\keypoint_classifier.hdf5\n",
            "29/29 [==============================] - 0s 5ms/step - loss: 1.2347 - accuracy: 0.4752 - val_loss: 1.0885 - val_accuracy: 0.6516\n",
            "Epoch 6/1000\n",
            "20/29 [===================>..........] - ETA: 0s - loss: 1.1885 - accuracy: 0.4750\n",
            "Epoch 6: saving model to model/keypoint_classifier\\keypoint_classifier.hdf5\n",
            "29/29 [==============================] - 0s 5ms/step - loss: 1.1740 - accuracy: 0.4841 - val_loss: 1.0054 - val_accuracy: 0.7068\n",
            "Epoch 7/1000\n",
            "14/29 [=============>................] - ETA: 0s - loss: 1.1173 - accuracy: 0.5268\n",
            "Epoch 7: saving model to model/keypoint_classifier\\keypoint_classifier.hdf5\n",
            "29/29 [==============================] - 0s 6ms/step - loss: 1.1034 - accuracy: 0.5270 - val_loss: 0.9345 - val_accuracy: 0.7243\n",
            "Epoch 8/1000\n",
            "13/29 [============>.................] - ETA: 0s - loss: 1.0631 - accuracy: 0.5427\n",
            "Epoch 8: saving model to model/keypoint_classifier\\keypoint_classifier.hdf5\n",
            "29/29 [==============================] - 0s 5ms/step - loss: 1.0634 - accuracy: 0.5373 - val_loss: 0.8712 - val_accuracy: 0.7352\n",
            "Epoch 9/1000\n",
            "19/29 [==================>...........] - ETA: 0s - loss: 1.0353 - accuracy: 0.5411\n",
            "Epoch 9: saving model to model/keypoint_classifier\\keypoint_classifier.hdf5\n",
            "29/29 [==============================] - 0s 5ms/step - loss: 1.0295 - accuracy: 0.5429 - val_loss: 0.8191 - val_accuracy: 0.7485\n",
            "Epoch 10/1000\n",
            "19/29 [==================>...........] - ETA: 0s - loss: 1.0020 - accuracy: 0.5633\n",
            "Epoch 10: saving model to model/keypoint_classifier\\keypoint_classifier.hdf5\n",
            "29/29 [==============================] - 0s 8ms/step - loss: 0.9959 - accuracy: 0.5649 - val_loss: 0.7773 - val_accuracy: 0.7711\n",
            "Epoch 11/1000\n",
            "18/29 [=================>............] - ETA: 0s - loss: 0.9755 - accuracy: 0.5690\n",
            "Epoch 11: saving model to model/keypoint_classifier\\keypoint_classifier.hdf5\n",
            "29/29 [==============================] - 0s 5ms/step - loss: 0.9731 - accuracy: 0.5705 - val_loss: 0.7389 - val_accuracy: 0.7895\n",
            "Epoch 12/1000\n",
            "18/29 [=================>............] - ETA: 0s - loss: 0.9383 - accuracy: 0.5938\n",
            "Epoch 12: saving model to model/keypoint_classifier\\keypoint_classifier.hdf5\n",
            "29/29 [==============================] - 0s 7ms/step - loss: 0.9363 - accuracy: 0.5925 - val_loss: 0.7098 - val_accuracy: 0.7978\n",
            "Epoch 13/1000\n",
            "17/29 [================>.............] - ETA: 0s - loss: 0.9145 - accuracy: 0.6011\n",
            "Epoch 13: saving model to model/keypoint_classifier\\keypoint_classifier.hdf5\n",
            "29/29 [==============================] - 0s 5ms/step - loss: 0.9114 - accuracy: 0.6031 - val_loss: 0.6758 - val_accuracy: 0.8045\n",
            "Epoch 14/1000\n",
            "18/29 [=================>............] - ETA: 0s - loss: 0.9030 - accuracy: 0.6011\n",
            "Epoch 14: saving model to model/keypoint_classifier\\keypoint_classifier.hdf5\n",
            "29/29 [==============================] - 0s 4ms/step - loss: 0.8948 - accuracy: 0.6042 - val_loss: 0.6430 - val_accuracy: 0.8145\n",
            "Epoch 15/1000\n",
            "16/29 [===============>..............] - ETA: 0s - loss: 0.8786 - accuracy: 0.6250\n",
            "Epoch 15: saving model to model/keypoint_classifier\\keypoint_classifier.hdf5\n",
            "29/29 [==============================] - 0s 5ms/step - loss: 0.8816 - accuracy: 0.6187 - val_loss: 0.6113 - val_accuracy: 0.8254\n",
            "Epoch 16/1000\n",
            "17/29 [================>.............] - ETA: 0s - loss: 0.8619 - accuracy: 0.6356\n",
            "Epoch 16: saving model to model/keypoint_classifier\\keypoint_classifier.hdf5\n",
            "29/29 [==============================] - 0s 5ms/step - loss: 0.8598 - accuracy: 0.6323 - val_loss: 0.5903 - val_accuracy: 0.8321\n",
            "Epoch 17/1000\n",
            "19/29 [==================>...........] - ETA: 0s - loss: 0.8535 - accuracy: 0.6250\n",
            "Epoch 17: saving model to model/keypoint_classifier\\keypoint_classifier.hdf5\n",
            "29/29 [==============================] - 0s 4ms/step - loss: 0.8419 - accuracy: 0.6279 - val_loss: 0.5625 - val_accuracy: 0.8521\n",
            "Epoch 18/1000\n",
            "18/29 [=================>............] - ETA: 0s - loss: 0.8299 - accuracy: 0.6393\n",
            "Epoch 18: saving model to model/keypoint_classifier\\keypoint_classifier.hdf5\n",
            "29/29 [==============================] - 0s 5ms/step - loss: 0.8284 - accuracy: 0.6443 - val_loss: 0.5443 - val_accuracy: 0.8956\n",
            "Epoch 19/1000\n",
            "22/29 [=====================>........] - ETA: 0s - loss: 0.7943 - accuracy: 0.6477\n",
            "Epoch 19: saving model to model/keypoint_classifier\\keypoint_classifier.hdf5\n",
            "29/29 [==============================] - 0s 5ms/step - loss: 0.7856 - accuracy: 0.6535 - val_loss: 0.5174 - val_accuracy: 0.9123\n",
            "Epoch 20/1000\n",
            "21/29 [====================>.........] - ETA: 0s - loss: 0.7895 - accuracy: 0.6533\n",
            "Epoch 20: saving model to model/keypoint_classifier\\keypoint_classifier.hdf5\n",
            "29/29 [==============================] - 0s 4ms/step - loss: 0.7835 - accuracy: 0.6579 - val_loss: 0.5008 - val_accuracy: 0.9148\n",
            "Epoch 21/1000\n",
            "21/29 [====================>.........] - ETA: 0s - loss: 0.7730 - accuracy: 0.6793\n",
            "Epoch 21: saving model to model/keypoint_classifier\\keypoint_classifier.hdf5\n",
            "29/29 [==============================] - 0s 4ms/step - loss: 0.7692 - accuracy: 0.6741 - val_loss: 0.4816 - val_accuracy: 0.9206\n",
            "Epoch 22/1000\n",
            "20/29 [===================>..........] - ETA: 0s - loss: 0.7502 - accuracy: 0.6895\n",
            "Epoch 22: saving model to model/keypoint_classifier\\keypoint_classifier.hdf5\n",
            "29/29 [==============================] - 0s 7ms/step - loss: 0.7478 - accuracy: 0.6852 - val_loss: 0.4626 - val_accuracy: 0.9190\n",
            "Epoch 23/1000\n",
            "17/29 [================>.............] - ETA: 0s - loss: 0.7420 - accuracy: 0.6893\n",
            "Epoch 23: saving model to model/keypoint_classifier\\keypoint_classifier.hdf5\n",
            "29/29 [==============================] - 0s 5ms/step - loss: 0.7551 - accuracy: 0.6819 - val_loss: 0.4537 - val_accuracy: 0.9198\n",
            "Epoch 24/1000\n",
            "16/29 [===============>..............] - ETA: 0s - loss: 0.7577 - accuracy: 0.6797\n",
            "Epoch 24: saving model to model/keypoint_classifier\\keypoint_classifier.hdf5\n",
            "29/29 [==============================] - 0s 5ms/step - loss: 0.7425 - accuracy: 0.6914 - val_loss: 0.4426 - val_accuracy: 0.9190\n",
            "Epoch 25/1000\n",
            "18/29 [=================>............] - ETA: 0s - loss: 0.6965 - accuracy: 0.7101\n",
            "Epoch 25: saving model to model/keypoint_classifier\\keypoint_classifier.hdf5\n",
            "29/29 [==============================] - 0s 4ms/step - loss: 0.7067 - accuracy: 0.7050 - val_loss: 0.4259 - val_accuracy: 0.9206\n",
            "Epoch 26/1000\n",
            "18/29 [=================>............] - ETA: 0s - loss: 0.7469 - accuracy: 0.6801\n",
            "Epoch 26: saving model to model/keypoint_classifier\\keypoint_classifier.hdf5\n",
            "29/29 [==============================] - 0s 4ms/step - loss: 0.7249 - accuracy: 0.6886 - val_loss: 0.4180 - val_accuracy: 0.9307\n",
            "Epoch 27/1000\n",
            "21/29 [====================>.........] - ETA: 0s - loss: 0.6911 - accuracy: 0.7124\n",
            "Epoch 27: saving model to model/keypoint_classifier\\keypoint_classifier.hdf5\n",
            "29/29 [==============================] - 0s 4ms/step - loss: 0.7040 - accuracy: 0.7036 - val_loss: 0.4070 - val_accuracy: 0.9390\n",
            "Epoch 28/1000\n",
            "21/29 [====================>.........] - ETA: 0s - loss: 0.7156 - accuracy: 0.7046\n",
            "Epoch 28: saving model to model/keypoint_classifier\\keypoint_classifier.hdf5\n",
            "29/29 [==============================] - 0s 4ms/step - loss: 0.7096 - accuracy: 0.7047 - val_loss: 0.4002 - val_accuracy: 0.9365\n",
            "Epoch 29/1000\n",
            "16/29 [===============>..............] - ETA: 0s - loss: 0.6967 - accuracy: 0.7095\n",
            "Epoch 29: saving model to model/keypoint_classifier\\keypoint_classifier.hdf5\n",
            "29/29 [==============================] - 0s 5ms/step - loss: 0.6992 - accuracy: 0.7145 - val_loss: 0.3915 - val_accuracy: 0.9415\n",
            "Epoch 30/1000\n",
            "17/29 [================>.............] - ETA: 0s - loss: 0.6954 - accuracy: 0.7206\n",
            "Epoch 30: saving model to model/keypoint_classifier\\keypoint_classifier.hdf5\n",
            "29/29 [==============================] - 0s 4ms/step - loss: 0.6913 - accuracy: 0.7184 - val_loss: 0.3811 - val_accuracy: 0.9440\n",
            "Epoch 31/1000\n",
            "18/29 [=================>............] - ETA: 0s - loss: 0.6792 - accuracy: 0.7144\n",
            "Epoch 31: saving model to model/keypoint_classifier\\keypoint_classifier.hdf5\n",
            "29/29 [==============================] - 0s 5ms/step - loss: 0.6688 - accuracy: 0.7206 - val_loss: 0.3668 - val_accuracy: 0.9515\n",
            "Epoch 32/1000\n",
            "18/29 [=================>............] - ETA: 0s - loss: 0.6557 - accuracy: 0.7370\n",
            "Epoch 32: saving model to model/keypoint_classifier\\keypoint_classifier.hdf5\n",
            "29/29 [==============================] - 0s 5ms/step - loss: 0.6552 - accuracy: 0.7373 - val_loss: 0.3576 - val_accuracy: 0.9440\n",
            "Epoch 33/1000\n",
            "22/29 [=====================>........] - ETA: 0s - loss: 0.6629 - accuracy: 0.7362\n",
            "Epoch 33: saving model to model/keypoint_classifier\\keypoint_classifier.hdf5\n",
            "29/29 [==============================] - 0s 4ms/step - loss: 0.6684 - accuracy: 0.7301 - val_loss: 0.3526 - val_accuracy: 0.9407\n",
            "Epoch 34/1000\n",
            "17/29 [================>.............] - ETA: 0s - loss: 0.6610 - accuracy: 0.7348\n",
            "Epoch 34: saving model to model/keypoint_classifier\\keypoint_classifier.hdf5\n",
            "29/29 [==============================] - 0s 5ms/step - loss: 0.6603 - accuracy: 0.7329 - val_loss: 0.3480 - val_accuracy: 0.9457\n",
            "Epoch 35/1000\n",
            "20/29 [===================>..........] - ETA: 0s - loss: 0.6699 - accuracy: 0.7195\n",
            "Epoch 35: saving model to model/keypoint_classifier\\keypoint_classifier.hdf5\n",
            "29/29 [==============================] - 0s 7ms/step - loss: 0.6613 - accuracy: 0.7251 - val_loss: 0.3483 - val_accuracy: 0.9440\n",
            "Epoch 36/1000\n",
            "18/29 [=================>............] - ETA: 0s - loss: 0.6239 - accuracy: 0.7556\n",
            "Epoch 36: saving model to model/keypoint_classifier\\keypoint_classifier.hdf5\n",
            "29/29 [==============================] - 0s 4ms/step - loss: 0.6373 - accuracy: 0.7401 - val_loss: 0.3338 - val_accuracy: 0.9440\n",
            "Epoch 37/1000\n",
            "19/29 [==================>...........] - ETA: 0s - loss: 0.6400 - accuracy: 0.7488\n",
            "Epoch 37: saving model to model/keypoint_classifier\\keypoint_classifier.hdf5\n",
            "29/29 [==============================] - 0s 5ms/step - loss: 0.6433 - accuracy: 0.7415 - val_loss: 0.3311 - val_accuracy: 0.9440\n",
            "Epoch 38/1000\n",
            "15/29 [==============>...............] - ETA: 0s - loss: 0.6302 - accuracy: 0.7432\n",
            "Epoch 38: saving model to model/keypoint_classifier\\keypoint_classifier.hdf5\n",
            "29/29 [==============================] - 0s 5ms/step - loss: 0.6267 - accuracy: 0.7465 - val_loss: 0.3266 - val_accuracy: 0.9407\n",
            "Epoch 39/1000\n",
            "19/29 [==================>...........] - ETA: 0s - loss: 0.6372 - accuracy: 0.7360\n",
            "Epoch 39: saving model to model/keypoint_classifier\\keypoint_classifier.hdf5\n",
            "29/29 [==============================] - 0s 5ms/step - loss: 0.6356 - accuracy: 0.7437 - val_loss: 0.3225 - val_accuracy: 0.9490\n",
            "Epoch 40/1000\n",
            "19/29 [==================>...........] - ETA: 0s - loss: 0.6145 - accuracy: 0.7521\n",
            "Epoch 40: saving model to model/keypoint_classifier\\keypoint_classifier.hdf5\n",
            "29/29 [==============================] - 0s 4ms/step - loss: 0.6210 - accuracy: 0.7493 - val_loss: 0.3139 - val_accuracy: 0.9482\n",
            "Epoch 41/1000\n",
            "16/29 [===============>..............] - ETA: 0s - loss: 0.6268 - accuracy: 0.7476\n",
            "Epoch 41: saving model to model/keypoint_classifier\\keypoint_classifier.hdf5\n",
            "29/29 [==============================] - 0s 6ms/step - loss: 0.6206 - accuracy: 0.7532 - val_loss: 0.3052 - val_accuracy: 0.9499\n",
            "Epoch 42/1000\n",
            "22/29 [=====================>........] - ETA: 0s - loss: 0.6135 - accuracy: 0.7532\n",
            "Epoch 42: saving model to model/keypoint_classifier\\keypoint_classifier.hdf5\n",
            "29/29 [==============================] - 0s 4ms/step - loss: 0.6122 - accuracy: 0.7496 - val_loss: 0.3104 - val_accuracy: 0.9482\n",
            "Epoch 43/1000\n",
            "20/29 [===================>..........] - ETA: 0s - loss: 0.6100 - accuracy: 0.7512\n",
            "Epoch 43: saving model to model/keypoint_classifier\\keypoint_classifier.hdf5\n",
            "29/29 [==============================] - 0s 4ms/step - loss: 0.6139 - accuracy: 0.7471 - val_loss: 0.3021 - val_accuracy: 0.9515\n",
            "Epoch 44/1000\n",
            "18/29 [=================>............] - ETA: 0s - loss: 0.6082 - accuracy: 0.7487\n",
            "Epoch 44: saving model to model/keypoint_classifier\\keypoint_classifier.hdf5\n",
            "29/29 [==============================] - 0s 5ms/step - loss: 0.6176 - accuracy: 0.7535 - val_loss: 0.2924 - val_accuracy: 0.9515\n",
            "Epoch 45/1000\n",
            "21/29 [====================>.........] - ETA: 0s - loss: 0.6225 - accuracy: 0.7467\n",
            "Epoch 45: saving model to model/keypoint_classifier\\keypoint_classifier.hdf5\n",
            "29/29 [==============================] - 0s 4ms/step - loss: 0.6135 - accuracy: 0.7496 - val_loss: 0.2935 - val_accuracy: 0.9532\n",
            "Epoch 46/1000\n",
            "17/29 [================>.............] - ETA: 0s - loss: 0.6163 - accuracy: 0.7426\n",
            "Epoch 46: saving model to model/keypoint_classifier\\keypoint_classifier.hdf5\n",
            "29/29 [==============================] - 0s 5ms/step - loss: 0.6075 - accuracy: 0.7460 - val_loss: 0.2888 - val_accuracy: 0.9574\n",
            "Epoch 47/1000\n",
            "18/29 [=================>............] - ETA: 0s - loss: 0.6004 - accuracy: 0.7626\n",
            "Epoch 47: saving model to model/keypoint_classifier\\keypoint_classifier.hdf5\n",
            "29/29 [==============================] - 0s 6ms/step - loss: 0.6035 - accuracy: 0.7607 - val_loss: 0.2841 - val_accuracy: 0.9566\n",
            "Epoch 48/1000\n",
            "16/29 [===============>..............] - ETA: 0s - loss: 0.5763 - accuracy: 0.7656\n",
            "Epoch 48: saving model to model/keypoint_classifier\\keypoint_classifier.hdf5\n",
            "29/29 [==============================] - 0s 5ms/step - loss: 0.5955 - accuracy: 0.7593 - val_loss: 0.2834 - val_accuracy: 0.9499\n",
            "Epoch 49/1000\n",
            "17/29 [================>.............] - ETA: 0s - loss: 0.5689 - accuracy: 0.7721\n",
            "Epoch 49: saving model to model/keypoint_classifier\\keypoint_classifier.hdf5\n",
            "29/29 [==============================] - 0s 5ms/step - loss: 0.5745 - accuracy: 0.7735 - val_loss: 0.2716 - val_accuracy: 0.9541\n",
            "Epoch 50/1000\n",
            "17/29 [================>.............] - ETA: 0s - loss: 0.5789 - accuracy: 0.7693\n",
            "Epoch 50: saving model to model/keypoint_classifier\\keypoint_classifier.hdf5\n",
            "29/29 [==============================] - 0s 5ms/step - loss: 0.5948 - accuracy: 0.7588 - val_loss: 0.2711 - val_accuracy: 0.9524\n",
            "Epoch 51/1000\n",
            "20/29 [===================>..........] - ETA: 0s - loss: 0.6108 - accuracy: 0.7551\n",
            "Epoch 51: saving model to model/keypoint_classifier\\keypoint_classifier.hdf5\n",
            "29/29 [==============================] - 0s 4ms/step - loss: 0.6057 - accuracy: 0.7574 - val_loss: 0.2784 - val_accuracy: 0.9574\n",
            "Epoch 52/1000\n",
            "18/29 [=================>............] - ETA: 0s - loss: 0.5832 - accuracy: 0.7695\n",
            "Epoch 52: saving model to model/keypoint_classifier\\keypoint_classifier.hdf5\n",
            "29/29 [==============================] - 0s 5ms/step - loss: 0.5813 - accuracy: 0.7666 - val_loss: 0.2670 - val_accuracy: 0.9557\n",
            "Epoch 53/1000\n",
            "22/29 [=====================>........] - ETA: 0s - loss: 0.5974 - accuracy: 0.7614\n",
            "Epoch 53: saving model to model/keypoint_classifier\\keypoint_classifier.hdf5\n",
            "29/29 [==============================] - 0s 4ms/step - loss: 0.5904 - accuracy: 0.7643 - val_loss: 0.2613 - val_accuracy: 0.9591\n",
            "Epoch 54/1000\n",
            "21/29 [====================>.........] - ETA: 0s - loss: 0.5908 - accuracy: 0.7656\n",
            "Epoch 54: saving model to model/keypoint_classifier\\keypoint_classifier.hdf5\n",
            "29/29 [==============================] - 0s 5ms/step - loss: 0.5872 - accuracy: 0.7663 - val_loss: 0.2610 - val_accuracy: 0.9557\n",
            "Epoch 55/1000\n",
            "19/29 [==================>...........] - ETA: 0s - loss: 0.5846 - accuracy: 0.7706\n",
            "Epoch 55: saving model to model/keypoint_classifier\\keypoint_classifier.hdf5\n",
            "29/29 [==============================] - 0s 4ms/step - loss: 0.5846 - accuracy: 0.7713 - val_loss: 0.2613 - val_accuracy: 0.9574\n",
            "Epoch 56/1000\n",
            "17/29 [================>.............] - ETA: 0s - loss: 0.5863 - accuracy: 0.7670\n",
            "Epoch 56: saving model to model/keypoint_classifier\\keypoint_classifier.hdf5\n",
            "29/29 [==============================] - 0s 6ms/step - loss: 0.5750 - accuracy: 0.7702 - val_loss: 0.2579 - val_accuracy: 0.9541\n",
            "Epoch 57/1000\n",
            "19/29 [==================>...........] - ETA: 0s - loss: 0.5593 - accuracy: 0.7726\n",
            "Epoch 57: saving model to model/keypoint_classifier\\keypoint_classifier.hdf5\n",
            "29/29 [==============================] - 0s 5ms/step - loss: 0.5544 - accuracy: 0.7766 - val_loss: 0.2571 - val_accuracy: 0.9574\n",
            "Epoch 58/1000\n",
            "21/29 [====================>.........] - ETA: 0s - loss: 0.5964 - accuracy: 0.7667\n",
            "Epoch 58: saving model to model/keypoint_classifier\\keypoint_classifier.hdf5\n",
            "29/29 [==============================] - 0s 4ms/step - loss: 0.5896 - accuracy: 0.7694 - val_loss: 0.2599 - val_accuracy: 0.9599\n",
            "Epoch 59/1000\n",
            "18/29 [=================>............] - ETA: 0s - loss: 0.5758 - accuracy: 0.7591\n",
            "Epoch 59: saving model to model/keypoint_classifier\\keypoint_classifier.hdf5\n",
            "29/29 [==============================] - 0s 4ms/step - loss: 0.5676 - accuracy: 0.7680 - val_loss: 0.2587 - val_accuracy: 0.9616\n",
            "Epoch 60/1000\n",
            "21/29 [====================>.........] - ETA: 0s - loss: 0.5763 - accuracy: 0.7660\n",
            "Epoch 60: saving model to model/keypoint_classifier\\keypoint_classifier.hdf5\n",
            "29/29 [==============================] - 0s 7ms/step - loss: 0.5893 - accuracy: 0.7630 - val_loss: 0.2582 - val_accuracy: 0.9566\n",
            "Epoch 61/1000\n",
            "19/29 [==================>...........] - ETA: 0s - loss: 0.5625 - accuracy: 0.7817\n",
            "Epoch 61: saving model to model/keypoint_classifier\\keypoint_classifier.hdf5\n",
            "29/29 [==============================] - 0s 5ms/step - loss: 0.5543 - accuracy: 0.7875 - val_loss: 0.2484 - val_accuracy: 0.9566\n",
            "Epoch 62/1000\n",
            "17/29 [================>.............] - ETA: 0s - loss: 0.5546 - accuracy: 0.7858\n",
            "Epoch 62: saving model to model/keypoint_classifier\\keypoint_classifier.hdf5\n",
            "29/29 [==============================] - 0s 5ms/step - loss: 0.5598 - accuracy: 0.7836 - val_loss: 0.2476 - val_accuracy: 0.9599\n",
            "Epoch 63/1000\n",
            "16/29 [===============>..............] - ETA: 0s - loss: 0.5345 - accuracy: 0.7891\n",
            "Epoch 63: saving model to model/keypoint_classifier\\keypoint_classifier.hdf5\n",
            "29/29 [==============================] - 0s 5ms/step - loss: 0.5491 - accuracy: 0.7808 - val_loss: 0.2393 - val_accuracy: 0.9632\n",
            "Epoch 64/1000\n",
            "18/29 [=================>............] - ETA: 0s - loss: 0.5463 - accuracy: 0.7921\n",
            "Epoch 64: saving model to model/keypoint_classifier\\keypoint_classifier.hdf5\n",
            "29/29 [==============================] - 0s 4ms/step - loss: 0.5579 - accuracy: 0.7838 - val_loss: 0.2349 - val_accuracy: 0.9666\n",
            "Epoch 65/1000\n",
            "18/29 [=================>............] - ETA: 0s - loss: 0.5471 - accuracy: 0.7830\n",
            "Epoch 65: saving model to model/keypoint_classifier\\keypoint_classifier.hdf5\n",
            "29/29 [==============================] - 0s 4ms/step - loss: 0.5545 - accuracy: 0.7777 - val_loss: 0.2346 - val_accuracy: 0.9624\n",
            "Epoch 66/1000\n",
            "17/29 [================>.............] - ETA: 0s - loss: 0.5490 - accuracy: 0.7863\n",
            "Epoch 66: saving model to model/keypoint_classifier\\keypoint_classifier.hdf5\n",
            "29/29 [==============================] - 0s 5ms/step - loss: 0.5472 - accuracy: 0.7833 - val_loss: 0.2331 - val_accuracy: 0.9641\n",
            "Epoch 67/1000\n",
            "16/29 [===============>..............] - ETA: 0s - loss: 0.5467 - accuracy: 0.7861\n",
            "Epoch 67: saving model to model/keypoint_classifier\\keypoint_classifier.hdf5\n",
            "29/29 [==============================] - 0s 5ms/step - loss: 0.5480 - accuracy: 0.7911 - val_loss: 0.2307 - val_accuracy: 0.9616\n",
            "Epoch 68/1000\n",
            "17/29 [================>.............] - ETA: 0s - loss: 0.5508 - accuracy: 0.7803\n",
            "Epoch 68: saving model to model/keypoint_classifier\\keypoint_classifier.hdf5\n",
            "29/29 [==============================] - 0s 5ms/step - loss: 0.5484 - accuracy: 0.7777 - val_loss: 0.2295 - val_accuracy: 0.9624\n",
            "Epoch 69/1000\n",
            "15/29 [==============>...............] - ETA: 0s - loss: 0.5385 - accuracy: 0.7771\n",
            "Epoch 69: saving model to model/keypoint_classifier\\keypoint_classifier.hdf5\n",
            "29/29 [==============================] - 0s 5ms/step - loss: 0.5379 - accuracy: 0.7886 - val_loss: 0.2357 - val_accuracy: 0.9591\n",
            "Epoch 70/1000\n",
            "19/29 [==================>...........] - ETA: 0s - loss: 0.5450 - accuracy: 0.7985\n",
            "Epoch 70: saving model to model/keypoint_classifier\\keypoint_classifier.hdf5\n",
            "29/29 [==============================] - 0s 5ms/step - loss: 0.5412 - accuracy: 0.7958 - val_loss: 0.2273 - val_accuracy: 0.9607\n",
            "Epoch 71/1000\n",
            "11/29 [==========>...................] - ETA: 0s - loss: 0.5320 - accuracy: 0.7805\n",
            "Epoch 71: saving model to model/keypoint_classifier\\keypoint_classifier.hdf5\n",
            "29/29 [==============================] - 0s 7ms/step - loss: 0.5327 - accuracy: 0.7922 - val_loss: 0.2234 - val_accuracy: 0.9657\n",
            "Epoch 72/1000\n",
            "16/29 [===============>..............] - ETA: 0s - loss: 0.5736 - accuracy: 0.7827\n",
            "Epoch 72: saving model to model/keypoint_classifier\\keypoint_classifier.hdf5\n",
            "29/29 [==============================] - 0s 5ms/step - loss: 0.5603 - accuracy: 0.7772 - val_loss: 0.2245 - val_accuracy: 0.9607\n",
            "Epoch 73/1000\n",
            "23/29 [======================>.......] - ETA: 0s - loss: 0.5146 - accuracy: 0.7965\n",
            "Epoch 73: saving model to model/keypoint_classifier\\keypoint_classifier.hdf5\n",
            "29/29 [==============================] - 0s 5ms/step - loss: 0.5244 - accuracy: 0.7950 - val_loss: 0.2179 - val_accuracy: 0.9649\n",
            "Epoch 74/1000\n",
            "17/29 [================>.............] - ETA: 0s - loss: 0.5262 - accuracy: 0.7937\n",
            "Epoch 74: saving model to model/keypoint_classifier\\keypoint_classifier.hdf5\n",
            "29/29 [==============================] - 0s 4ms/step - loss: 0.5226 - accuracy: 0.7961 - val_loss: 0.2167 - val_accuracy: 0.9641\n",
            "Epoch 75/1000\n",
            "18/29 [=================>............] - ETA: 0s - loss: 0.5287 - accuracy: 0.7960\n",
            "Epoch 75: saving model to model/keypoint_classifier\\keypoint_classifier.hdf5\n",
            "29/29 [==============================] - 0s 5ms/step - loss: 0.5404 - accuracy: 0.7919 - val_loss: 0.2141 - val_accuracy: 0.9666\n",
            "Epoch 76/1000\n",
            "20/29 [===================>..........] - ETA: 0s - loss: 0.5117 - accuracy: 0.8047\n",
            "Epoch 76: saving model to model/keypoint_classifier\\keypoint_classifier.hdf5\n",
            "29/29 [==============================] - 0s 4ms/step - loss: 0.5271 - accuracy: 0.7967 - val_loss: 0.2111 - val_accuracy: 0.9699\n",
            "Epoch 77/1000\n",
            "19/29 [==================>...........] - ETA: 0s - loss: 0.5274 - accuracy: 0.7952\n",
            "Epoch 77: saving model to model/keypoint_classifier\\keypoint_classifier.hdf5\n",
            "29/29 [==============================] - 0s 4ms/step - loss: 0.5253 - accuracy: 0.7964 - val_loss: 0.2154 - val_accuracy: 0.9624\n",
            "Epoch 78/1000\n",
            "19/29 [==================>...........] - ETA: 0s - loss: 0.5459 - accuracy: 0.7870\n",
            "Epoch 78: saving model to model/keypoint_classifier\\keypoint_classifier.hdf5\n",
            "29/29 [==============================] - 0s 5ms/step - loss: 0.5417 - accuracy: 0.7947 - val_loss: 0.2185 - val_accuracy: 0.9666\n",
            "Epoch 79/1000\n",
            "17/29 [================>.............] - ETA: 0s - loss: 0.5230 - accuracy: 0.8010\n",
            "Epoch 79: saving model to model/keypoint_classifier\\keypoint_classifier.hdf5\n",
            "29/29 [==============================] - 0s 4ms/step - loss: 0.5188 - accuracy: 0.8003 - val_loss: 0.2103 - val_accuracy: 0.9683\n",
            "Epoch 80/1000\n",
            "23/29 [======================>.......] - ETA: 0s - loss: 0.5319 - accuracy: 0.7962\n",
            "Epoch 80: saving model to model/keypoint_classifier\\keypoint_classifier.hdf5\n",
            "29/29 [==============================] - 0s 4ms/step - loss: 0.5305 - accuracy: 0.7944 - val_loss: 0.2117 - val_accuracy: 0.9674\n",
            "Epoch 81/1000\n",
            "19/29 [==================>...........] - ETA: 0s - loss: 0.5297 - accuracy: 0.7961\n",
            "Epoch 81: saving model to model/keypoint_classifier\\keypoint_classifier.hdf5\n",
            "29/29 [==============================] - 0s 5ms/step - loss: 0.5264 - accuracy: 0.7972 - val_loss: 0.2099 - val_accuracy: 0.9641\n",
            "Epoch 82/1000\n",
            "20/29 [===================>..........] - ETA: 0s - loss: 0.5076 - accuracy: 0.8094\n",
            "Epoch 82: saving model to model/keypoint_classifier\\keypoint_classifier.hdf5\n",
            "29/29 [==============================] - 0s 4ms/step - loss: 0.5151 - accuracy: 0.8064 - val_loss: 0.2093 - val_accuracy: 0.9632\n",
            "Epoch 83/1000\n",
            "27/29 [==========================>...] - ETA: 0s - loss: 0.5341 - accuracy: 0.7885\n",
            "Epoch 83: saving model to model/keypoint_classifier\\keypoint_classifier.hdf5\n",
            "29/29 [==============================] - 0s 6ms/step - loss: 0.5333 - accuracy: 0.7869 - val_loss: 0.2124 - val_accuracy: 0.9666\n",
            "Epoch 84/1000\n",
            "18/29 [=================>............] - ETA: 0s - loss: 0.5017 - accuracy: 0.8030\n",
            "Epoch 84: saving model to model/keypoint_classifier\\keypoint_classifier.hdf5\n",
            "29/29 [==============================] - 0s 5ms/step - loss: 0.5185 - accuracy: 0.7983 - val_loss: 0.2130 - val_accuracy: 0.9624\n",
            "Epoch 85/1000\n",
            "20/29 [===================>..........] - ETA: 0s - loss: 0.5214 - accuracy: 0.7945\n",
            "Epoch 85: saving model to model/keypoint_classifier\\keypoint_classifier.hdf5\n",
            "29/29 [==============================] - 0s 5ms/step - loss: 0.5204 - accuracy: 0.7983 - val_loss: 0.2110 - val_accuracy: 0.9616\n",
            "Epoch 86/1000\n",
            "18/29 [=================>............] - ETA: 0s - loss: 0.4881 - accuracy: 0.8108\n",
            "Epoch 86: saving model to model/keypoint_classifier\\keypoint_classifier.hdf5\n",
            "29/29 [==============================] - 0s 5ms/step - loss: 0.4844 - accuracy: 0.8128 - val_loss: 0.2016 - val_accuracy: 0.9624\n",
            "Epoch 87/1000\n",
            "16/29 [===============>..............] - ETA: 0s - loss: 0.4980 - accuracy: 0.8115\n",
            "Epoch 87: saving model to model/keypoint_classifier\\keypoint_classifier.hdf5\n",
            "29/29 [==============================] - 0s 6ms/step - loss: 0.5146 - accuracy: 0.8061 - val_loss: 0.2050 - val_accuracy: 0.9599\n",
            "Epoch 88/1000\n",
            "14/29 [=============>................] - ETA: 0s - loss: 0.5448 - accuracy: 0.7874\n",
            "Epoch 88: saving model to model/keypoint_classifier\\keypoint_classifier.hdf5\n",
            "29/29 [==============================] - 0s 5ms/step - loss: 0.5271 - accuracy: 0.7953 - val_loss: 0.2011 - val_accuracy: 0.9641\n",
            "Epoch 89/1000\n",
            "18/29 [=================>............] - ETA: 0s - loss: 0.5203 - accuracy: 0.8125\n",
            "Epoch 89: saving model to model/keypoint_classifier\\keypoint_classifier.hdf5\n",
            "29/29 [==============================] - 0s 4ms/step - loss: 0.5268 - accuracy: 0.8075 - val_loss: 0.2069 - val_accuracy: 0.9641\n",
            "Epoch 90/1000\n",
            "18/29 [=================>............] - ETA: 0s - loss: 0.5026 - accuracy: 0.8207\n",
            "Epoch 90: saving model to model/keypoint_classifier\\keypoint_classifier.hdf5\n",
            "29/29 [==============================] - 0s 5ms/step - loss: 0.5000 - accuracy: 0.8159 - val_loss: 0.2051 - val_accuracy: 0.9616\n",
            "Epoch 91/1000\n",
            "29/29 [==============================] - ETA: 0s - loss: 0.5014 - accuracy: 0.8045\n",
            "Epoch 91: saving model to model/keypoint_classifier\\keypoint_classifier.hdf5\n",
            "29/29 [==============================] - 0s 6ms/step - loss: 0.5014 - accuracy: 0.8045 - val_loss: 0.2019 - val_accuracy: 0.9632\n",
            "Epoch 92/1000\n",
            "23/29 [======================>.......] - ETA: 0s - loss: 0.4907 - accuracy: 0.8203\n",
            "Epoch 92: saving model to model/keypoint_classifier\\keypoint_classifier.hdf5\n",
            "29/29 [==============================] - 0s 4ms/step - loss: 0.5009 - accuracy: 0.8148 - val_loss: 0.1993 - val_accuracy: 0.9641\n",
            "Epoch 93/1000\n",
            "22/29 [=====================>........] - ETA: 0s - loss: 0.5132 - accuracy: 0.7979\n",
            "Epoch 93: saving model to model/keypoint_classifier\\keypoint_classifier.hdf5\n",
            "29/29 [==============================] - 0s 7ms/step - loss: 0.5203 - accuracy: 0.7978 - val_loss: 0.1952 - val_accuracy: 0.9674\n",
            "Epoch 94/1000\n",
            "17/29 [================>.............] - ETA: 0s - loss: 0.5245 - accuracy: 0.7996\n",
            "Epoch 94: saving model to model/keypoint_classifier\\keypoint_classifier.hdf5\n",
            "29/29 [==============================] - 0s 5ms/step - loss: 0.5241 - accuracy: 0.8045 - val_loss: 0.1978 - val_accuracy: 0.9649\n",
            "Epoch 95/1000\n",
            "20/29 [===================>..........] - ETA: 0s - loss: 0.5062 - accuracy: 0.8090\n",
            "Epoch 95: saving model to model/keypoint_classifier\\keypoint_classifier.hdf5\n",
            "29/29 [==============================] - 0s 5ms/step - loss: 0.5123 - accuracy: 0.8072 - val_loss: 0.2020 - val_accuracy: 0.9674\n",
            "Epoch 96/1000\n",
            "16/29 [===============>..............] - ETA: 0s - loss: 0.5007 - accuracy: 0.8110\n",
            "Epoch 96: saving model to model/keypoint_classifier\\keypoint_classifier.hdf5\n",
            "29/29 [==============================] - 0s 5ms/step - loss: 0.4992 - accuracy: 0.8145 - val_loss: 0.2016 - val_accuracy: 0.9616\n",
            "Epoch 97/1000\n",
            "18/29 [=================>............] - ETA: 0s - loss: 0.5393 - accuracy: 0.7960\n",
            "Epoch 97: saving model to model/keypoint_classifier\\keypoint_classifier.hdf5\n",
            "29/29 [==============================] - 0s 5ms/step - loss: 0.5160 - accuracy: 0.8064 - val_loss: 0.1963 - val_accuracy: 0.9666\n",
            "Epoch 98/1000\n",
            "19/29 [==================>...........] - ETA: 0s - loss: 0.5295 - accuracy: 0.8109\n",
            "Epoch 98: saving model to model/keypoint_classifier\\keypoint_classifier.hdf5\n",
            "29/29 [==============================] - 0s 4ms/step - loss: 0.5234 - accuracy: 0.8084 - val_loss: 0.1988 - val_accuracy: 0.9666\n",
            "Epoch 99/1000\n",
            "18/29 [=================>............] - ETA: 0s - loss: 0.4905 - accuracy: 0.8168\n",
            "Epoch 99: saving model to model/keypoint_classifier\\keypoint_classifier.hdf5\n",
            "29/29 [==============================] - 0s 4ms/step - loss: 0.4961 - accuracy: 0.8106 - val_loss: 0.1993 - val_accuracy: 0.9641\n",
            "Epoch 100/1000\n",
            "25/29 [========================>.....] - ETA: 0s - loss: 0.4889 - accuracy: 0.8119\n",
            "Epoch 100: saving model to model/keypoint_classifier\\keypoint_classifier.hdf5\n",
            "29/29 [==============================] - 0s 4ms/step - loss: 0.4917 - accuracy: 0.8103 - val_loss: 0.1907 - val_accuracy: 0.9683\n",
            "Epoch 101/1000\n",
            "12/29 [===========>..................] - ETA: 0s - loss: 0.4859 - accuracy: 0.8197\n",
            "Epoch 101: saving model to model/keypoint_classifier\\keypoint_classifier.hdf5\n",
            "29/29 [==============================] - 0s 5ms/step - loss: 0.4916 - accuracy: 0.8164 - val_loss: 0.1941 - val_accuracy: 0.9641\n",
            "Epoch 102/1000\n",
            "16/29 [===============>..............] - ETA: 0s - loss: 0.5167 - accuracy: 0.7983\n",
            "Epoch 102: saving model to model/keypoint_classifier\\keypoint_classifier.hdf5\n",
            "29/29 [==============================] - 0s 5ms/step - loss: 0.5169 - accuracy: 0.8014 - val_loss: 0.1955 - val_accuracy: 0.9674\n",
            "Epoch 103/1000\n",
            "29/29 [==============================] - ETA: 0s - loss: 0.4942 - accuracy: 0.8097\n",
            "Epoch 103: saving model to model/keypoint_classifier\\keypoint_classifier.hdf5\n",
            "29/29 [==============================] - 0s 8ms/step - loss: 0.4942 - accuracy: 0.8097 - val_loss: 0.1920 - val_accuracy: 0.9666\n",
            "Epoch 104/1000\n",
            "17/29 [================>.............] - ETA: 0s - loss: 0.4997 - accuracy: 0.8010\n",
            "Epoch 104: saving model to model/keypoint_classifier\\keypoint_classifier.hdf5\n",
            "29/29 [==============================] - 0s 5ms/step - loss: 0.4847 - accuracy: 0.8100 - val_loss: 0.1982 - val_accuracy: 0.9632\n",
            "Epoch 105/1000\n",
            "18/29 [=================>............] - ETA: 0s - loss: 0.5040 - accuracy: 0.8164\n",
            "Epoch 105: saving model to model/keypoint_classifier\\keypoint_classifier.hdf5\n",
            "29/29 [==============================] - 0s 5ms/step - loss: 0.4990 - accuracy: 0.8153 - val_loss: 0.1915 - val_accuracy: 0.9674\n",
            "Epoch 106/1000\n",
            "21/29 [====================>.........] - ETA: 0s - loss: 0.4991 - accuracy: 0.8155\n",
            "Epoch 106: saving model to model/keypoint_classifier\\keypoint_classifier.hdf5\n",
            "29/29 [==============================] - 0s 4ms/step - loss: 0.4975 - accuracy: 0.8120 - val_loss: 0.1891 - val_accuracy: 0.9683\n",
            "Epoch 107/1000\n",
            "17/29 [================>.............] - ETA: 0s - loss: 0.5290 - accuracy: 0.7964\n",
            "Epoch 107: saving model to model/keypoint_classifier\\keypoint_classifier.hdf5\n",
            "29/29 [==============================] - 0s 5ms/step - loss: 0.5013 - accuracy: 0.8064 - val_loss: 0.1892 - val_accuracy: 0.9674\n",
            "Epoch 108/1000\n",
            "19/29 [==================>...........] - ETA: 0s - loss: 0.5065 - accuracy: 0.8063\n",
            "Epoch 108: saving model to model/keypoint_classifier\\keypoint_classifier.hdf5\n",
            "29/29 [==============================] - 0s 5ms/step - loss: 0.5039 - accuracy: 0.8064 - val_loss: 0.1911 - val_accuracy: 0.9674\n",
            "Epoch 109/1000\n",
            "19/29 [==================>...........] - ETA: 0s - loss: 0.4804 - accuracy: 0.8199\n",
            "Epoch 109: saving model to model/keypoint_classifier\\keypoint_classifier.hdf5\n",
            "29/29 [==============================] - 0s 5ms/step - loss: 0.4767 - accuracy: 0.8228 - val_loss: 0.1890 - val_accuracy: 0.9674\n",
            "Epoch 110/1000\n",
            "17/29 [================>.............] - ETA: 0s - loss: 0.4760 - accuracy: 0.8231\n",
            "Epoch 110: saving model to model/keypoint_classifier\\keypoint_classifier.hdf5\n",
            "29/29 [==============================] - 0s 5ms/step - loss: 0.4954 - accuracy: 0.8109 - val_loss: 0.1907 - val_accuracy: 0.9666\n",
            "Epoch 111/1000\n",
            "18/29 [=================>............] - ETA: 0s - loss: 0.4961 - accuracy: 0.8147\n",
            "Epoch 111: saving model to model/keypoint_classifier\\keypoint_classifier.hdf5\n",
            "29/29 [==============================] - 0s 5ms/step - loss: 0.5008 - accuracy: 0.8117 - val_loss: 0.1948 - val_accuracy: 0.9624\n",
            "Epoch 112/1000\n",
            "18/29 [=================>............] - ETA: 0s - loss: 0.5092 - accuracy: 0.8060\n",
            "Epoch 112: saving model to model/keypoint_classifier\\keypoint_classifier.hdf5\n",
            "29/29 [==============================] - 0s 7ms/step - loss: 0.4957 - accuracy: 0.8123 - val_loss: 0.1959 - val_accuracy: 0.9649\n",
            "Epoch 113/1000\n",
            "16/29 [===============>..............] - ETA: 0s - loss: 0.5087 - accuracy: 0.7998\n",
            "Epoch 113: saving model to model/keypoint_classifier\\keypoint_classifier.hdf5\n",
            "29/29 [==============================] - 0s 5ms/step - loss: 0.5055 - accuracy: 0.8031 - val_loss: 0.1930 - val_accuracy: 0.9657\n",
            "Epoch 114/1000\n",
            "16/29 [===============>..............] - ETA: 0s - loss: 0.4807 - accuracy: 0.8140\n",
            "Epoch 114: saving model to model/keypoint_classifier\\keypoint_classifier.hdf5\n",
            "29/29 [==============================] - 0s 5ms/step - loss: 0.4949 - accuracy: 0.8097 - val_loss: 0.1925 - val_accuracy: 0.9649\n",
            "Epoch 115/1000\n",
            "17/29 [================>.............] - ETA: 0s - loss: 0.5261 - accuracy: 0.7955\n",
            "Epoch 115: saving model to model/keypoint_classifier\\keypoint_classifier.hdf5\n",
            "29/29 [==============================] - 0s 5ms/step - loss: 0.5135 - accuracy: 0.8036 - val_loss: 0.1935 - val_accuracy: 0.9657\n",
            "Epoch 116/1000\n",
            "18/29 [=================>............] - ETA: 0s - loss: 0.4909 - accuracy: 0.8086\n",
            "Epoch 116: saving model to model/keypoint_classifier\\keypoint_classifier.hdf5\n",
            "29/29 [==============================] - 0s 4ms/step - loss: 0.4966 - accuracy: 0.8075 - val_loss: 0.1882 - val_accuracy: 0.9674\n",
            "Epoch 117/1000\n",
            "19/29 [==================>...........] - ETA: 0s - loss: 0.4973 - accuracy: 0.8174\n",
            "Epoch 117: saving model to model/keypoint_classifier\\keypoint_classifier.hdf5\n",
            "29/29 [==============================] - 0s 5ms/step - loss: 0.4959 - accuracy: 0.8195 - val_loss: 0.1865 - val_accuracy: 0.9641\n",
            "Epoch 118/1000\n",
            "19/29 [==================>...........] - ETA: 0s - loss: 0.4807 - accuracy: 0.8092\n",
            "Epoch 118: saving model to model/keypoint_classifier\\keypoint_classifier.hdf5\n",
            "29/29 [==============================] - 0s 4ms/step - loss: 0.4795 - accuracy: 0.8123 - val_loss: 0.1866 - val_accuracy: 0.9683\n",
            "Epoch 119/1000\n",
            "10/29 [=========>....................] - ETA: 0s - loss: 0.5065 - accuracy: 0.8164\n",
            "Epoch 119: saving model to model/keypoint_classifier\\keypoint_classifier.hdf5\n",
            "29/29 [==============================] - 0s 5ms/step - loss: 0.4983 - accuracy: 0.8192 - val_loss: 0.1848 - val_accuracy: 0.9683\n",
            "Epoch 120/1000\n",
            "19/29 [==================>...........] - ETA: 0s - loss: 0.4919 - accuracy: 0.8220\n",
            "Epoch 120: saving model to model/keypoint_classifier\\keypoint_classifier.hdf5\n",
            "29/29 [==============================] - 0s 5ms/step - loss: 0.4895 - accuracy: 0.8231 - val_loss: 0.1834 - val_accuracy: 0.9716\n",
            "Epoch 121/1000\n",
            "23/29 [======================>.......] - ETA: 0s - loss: 0.4874 - accuracy: 0.8142\n",
            "Epoch 121: saving model to model/keypoint_classifier\\keypoint_classifier.hdf5\n",
            "29/29 [==============================] - 0s 8ms/step - loss: 0.4880 - accuracy: 0.8159 - val_loss: 0.1852 - val_accuracy: 0.9683\n",
            "Epoch 122/1000\n",
            "20/29 [===================>..........] - ETA: 0s - loss: 0.4765 - accuracy: 0.8207\n",
            "Epoch 122: saving model to model/keypoint_classifier\\keypoint_classifier.hdf5\n",
            "29/29 [==============================] - 0s 5ms/step - loss: 0.4745 - accuracy: 0.8198 - val_loss: 0.1864 - val_accuracy: 0.9691\n",
            "Epoch 123/1000\n",
            "17/29 [================>.............] - ETA: 0s - loss: 0.4692 - accuracy: 0.8341\n",
            "Epoch 123: saving model to model/keypoint_classifier\\keypoint_classifier.hdf5\n",
            "29/29 [==============================] - 0s 5ms/step - loss: 0.4894 - accuracy: 0.8262 - val_loss: 0.1881 - val_accuracy: 0.9699\n",
            "Epoch 124/1000\n",
            "17/29 [================>.............] - ETA: 0s - loss: 0.4819 - accuracy: 0.8130\n",
            "Epoch 124: saving model to model/keypoint_classifier\\keypoint_classifier.hdf5\n",
            "29/29 [==============================] - 0s 5ms/step - loss: 0.4825 - accuracy: 0.8175 - val_loss: 0.1833 - val_accuracy: 0.9716\n",
            "Epoch 125/1000\n",
            "16/29 [===============>..............] - ETA: 0s - loss: 0.4647 - accuracy: 0.8247\n",
            "Epoch 125: saving model to model/keypoint_classifier\\keypoint_classifier.hdf5\n",
            "29/29 [==============================] - 0s 5ms/step - loss: 0.4626 - accuracy: 0.8270 - val_loss: 0.1831 - val_accuracy: 0.9708\n",
            "Epoch 126/1000\n",
            "18/29 [=================>............] - ETA: 0s - loss: 0.4858 - accuracy: 0.8112\n",
            "Epoch 126: saving model to model/keypoint_classifier\\keypoint_classifier.hdf5\n",
            "29/29 [==============================] - 0s 5ms/step - loss: 0.4795 - accuracy: 0.8175 - val_loss: 0.1846 - val_accuracy: 0.9666\n",
            "Epoch 127/1000\n",
            "16/29 [===============>..............] - ETA: 0s - loss: 0.5053 - accuracy: 0.8154\n",
            "Epoch 127: saving model to model/keypoint_classifier\\keypoint_classifier.hdf5\n",
            "29/29 [==============================] - 0s 5ms/step - loss: 0.4892 - accuracy: 0.8234 - val_loss: 0.1797 - val_accuracy: 0.9708\n",
            "Epoch 128/1000\n",
            "26/29 [=========================>....] - ETA: 0s - loss: 0.4962 - accuracy: 0.8158\n",
            "Epoch 128: saving model to model/keypoint_classifier\\keypoint_classifier.hdf5\n",
            "29/29 [==============================] - 0s 6ms/step - loss: 0.4958 - accuracy: 0.8170 - val_loss: 0.1763 - val_accuracy: 0.9724\n",
            "Epoch 129/1000\n",
            "25/29 [========================>.....] - ETA: 0s - loss: 0.4989 - accuracy: 0.8175\n",
            "Epoch 129: saving model to model/keypoint_classifier\\keypoint_classifier.hdf5\n",
            "29/29 [==============================] - 0s 4ms/step - loss: 0.4982 - accuracy: 0.8189 - val_loss: 0.1849 - val_accuracy: 0.9716\n",
            "Epoch 130/1000\n",
            "23/29 [======================>.......] - ETA: 0s - loss: 0.4623 - accuracy: 0.8186\n",
            "Epoch 130: saving model to model/keypoint_classifier\\keypoint_classifier.hdf5\n",
            "29/29 [==============================] - 0s 7ms/step - loss: 0.4724 - accuracy: 0.8184 - val_loss: 0.1774 - val_accuracy: 0.9724\n",
            "Epoch 131/1000\n",
            "20/29 [===================>..........] - ETA: 0s - loss: 0.4817 - accuracy: 0.8289\n",
            "Epoch 131: saving model to model/keypoint_classifier\\keypoint_classifier.hdf5\n",
            "29/29 [==============================] - 0s 4ms/step - loss: 0.4840 - accuracy: 0.8240 - val_loss: 0.1718 - val_accuracy: 0.9741\n",
            "Epoch 132/1000\n",
            "18/29 [=================>............] - ETA: 0s - loss: 0.4772 - accuracy: 0.8186\n",
            "Epoch 132: saving model to model/keypoint_classifier\\keypoint_classifier.hdf5\n",
            "29/29 [==============================] - 0s 5ms/step - loss: 0.4745 - accuracy: 0.8203 - val_loss: 0.1809 - val_accuracy: 0.9683\n",
            "Epoch 133/1000\n",
            "17/29 [================>.............] - ETA: 0s - loss: 0.4987 - accuracy: 0.8134\n",
            "Epoch 133: saving model to model/keypoint_classifier\\keypoint_classifier.hdf5\n",
            "29/29 [==============================] - 0s 4ms/step - loss: 0.4768 - accuracy: 0.8209 - val_loss: 0.1770 - val_accuracy: 0.9733\n",
            "Epoch 134/1000\n",
            "18/29 [=================>............] - ETA: 0s - loss: 0.4492 - accuracy: 0.8325\n",
            "Epoch 134: saving model to model/keypoint_classifier\\keypoint_classifier.hdf5\n",
            "29/29 [==============================] - 0s 4ms/step - loss: 0.4718 - accuracy: 0.8226 - val_loss: 0.1791 - val_accuracy: 0.9724\n",
            "Epoch 135/1000\n",
            "17/29 [================>.............] - ETA: 0s - loss: 0.4944 - accuracy: 0.8019\n",
            "Epoch 135: saving model to model/keypoint_classifier\\keypoint_classifier.hdf5\n",
            "29/29 [==============================] - 0s 5ms/step - loss: 0.4919 - accuracy: 0.8092 - val_loss: 0.1855 - val_accuracy: 0.9758\n",
            "Epoch 136/1000\n",
            "19/29 [==================>...........] - ETA: 0s - loss: 0.5132 - accuracy: 0.8080\n",
            "Epoch 136: saving model to model/keypoint_classifier\\keypoint_classifier.hdf5\n",
            "29/29 [==============================] - 0s 5ms/step - loss: 0.5050 - accuracy: 0.8106 - val_loss: 0.1880 - val_accuracy: 0.9733\n",
            "Epoch 137/1000\n",
            "14/29 [=============>................] - ETA: 0s - loss: 0.4803 - accuracy: 0.8237\n",
            "Epoch 137: saving model to model/keypoint_classifier\\keypoint_classifier.hdf5\n",
            "29/29 [==============================] - 0s 5ms/step - loss: 0.4770 - accuracy: 0.8223 - val_loss: 0.1831 - val_accuracy: 0.9741\n",
            "Epoch 138/1000\n",
            "18/29 [=================>............] - ETA: 0s - loss: 0.4733 - accuracy: 0.8225\n",
            "Epoch 138: saving model to model/keypoint_classifier\\keypoint_classifier.hdf5\n",
            "29/29 [==============================] - 0s 4ms/step - loss: 0.4791 - accuracy: 0.8198 - val_loss: 0.1799 - val_accuracy: 0.9724\n",
            "Epoch 139/1000\n",
            "25/29 [========================>.....] - ETA: 0s - loss: 0.4809 - accuracy: 0.8256\n",
            "Epoch 139: saving model to model/keypoint_classifier\\keypoint_classifier.hdf5\n",
            "29/29 [==============================] - 0s 4ms/step - loss: 0.4742 - accuracy: 0.8279 - val_loss: 0.1835 - val_accuracy: 0.9699\n",
            "Epoch 140/1000\n",
            "28/29 [===========================>..] - ETA: 0s - loss: 0.4777 - accuracy: 0.8198\n",
            "Epoch 140: saving model to model/keypoint_classifier\\keypoint_classifier.hdf5\n",
            "29/29 [==============================] - 0s 6ms/step - loss: 0.4777 - accuracy: 0.8195 - val_loss: 0.1804 - val_accuracy: 0.9716\n",
            "Epoch 141/1000\n",
            "18/29 [=================>............] - ETA: 0s - loss: 0.4773 - accuracy: 0.8164\n",
            "Epoch 141: saving model to model/keypoint_classifier\\keypoint_classifier.hdf5\n",
            "29/29 [==============================] - 0s 5ms/step - loss: 0.4751 - accuracy: 0.8145 - val_loss: 0.1850 - val_accuracy: 0.9674\n",
            "Epoch 142/1000\n",
            "24/29 [=======================>......] - ETA: 0s - loss: 0.4687 - accuracy: 0.8213\n",
            "Epoch 142: saving model to model/keypoint_classifier\\keypoint_classifier.hdf5\n",
            "29/29 [==============================] - 0s 4ms/step - loss: 0.4630 - accuracy: 0.8245 - val_loss: 0.1766 - val_accuracy: 0.9741\n",
            "Epoch 143/1000\n",
            "21/29 [====================>.........] - ETA: 0s - loss: 0.4698 - accuracy: 0.8173\n",
            "Epoch 143: saving model to model/keypoint_classifier\\keypoint_classifier.hdf5\n",
            "29/29 [==============================] - 0s 5ms/step - loss: 0.4775 - accuracy: 0.8136 - val_loss: 0.1739 - val_accuracy: 0.9733\n",
            "Epoch 144/1000\n",
            "23/29 [======================>.......] - ETA: 0s - loss: 0.4618 - accuracy: 0.8257\n",
            "Epoch 144: saving model to model/keypoint_classifier\\keypoint_classifier.hdf5\n",
            "29/29 [==============================] - 0s 5ms/step - loss: 0.4696 - accuracy: 0.8234 - val_loss: 0.1816 - val_accuracy: 0.9691\n",
            "Epoch 145/1000\n",
            "19/29 [==================>...........] - ETA: 0s - loss: 0.4737 - accuracy: 0.8174\n",
            "Epoch 145: saving model to model/keypoint_classifier\\keypoint_classifier.hdf5\n",
            "29/29 [==============================] - 0s 5ms/step - loss: 0.4729 - accuracy: 0.8226 - val_loss: 0.1789 - val_accuracy: 0.9708\n",
            "Epoch 146/1000\n",
            "18/29 [=================>............] - ETA: 0s - loss: 0.4608 - accuracy: 0.8312\n",
            "Epoch 146: saving model to model/keypoint_classifier\\keypoint_classifier.hdf5\n",
            "29/29 [==============================] - 0s 5ms/step - loss: 0.4689 - accuracy: 0.8253 - val_loss: 0.1789 - val_accuracy: 0.9699\n",
            "Epoch 147/1000\n",
            "18/29 [=================>............] - ETA: 0s - loss: 0.4474 - accuracy: 0.8286\n",
            "Epoch 147: saving model to model/keypoint_classifier\\keypoint_classifier.hdf5\n",
            "29/29 [==============================] - 0s 5ms/step - loss: 0.4702 - accuracy: 0.8201 - val_loss: 0.1814 - val_accuracy: 0.9683\n",
            "Epoch 148/1000\n",
            "19/29 [==================>...........] - ETA: 0s - loss: 0.4653 - accuracy: 0.8285\n",
            "Epoch 148: saving model to model/keypoint_classifier\\keypoint_classifier.hdf5\n",
            "29/29 [==============================] - 0s 7ms/step - loss: 0.4536 - accuracy: 0.8290 - val_loss: 0.1784 - val_accuracy: 0.9716\n",
            "Epoch 149/1000\n",
            "16/29 [===============>..............] - ETA: 0s - loss: 0.4811 - accuracy: 0.8232\n",
            "Epoch 149: saving model to model/keypoint_classifier\\keypoint_classifier.hdf5\n",
            "29/29 [==============================] - 0s 5ms/step - loss: 0.4794 - accuracy: 0.8231 - val_loss: 0.1767 - val_accuracy: 0.9749\n",
            "Epoch 150/1000\n",
            "20/29 [===================>..........] - ETA: 0s - loss: 0.4846 - accuracy: 0.8184\n",
            "Epoch 150: saving model to model/keypoint_classifier\\keypoint_classifier.hdf5\n",
            "29/29 [==============================] - 0s 4ms/step - loss: 0.4941 - accuracy: 0.8167 - val_loss: 0.1764 - val_accuracy: 0.9741\n",
            "Epoch 151/1000\n",
            "18/29 [=================>............] - ETA: 0s - loss: 0.4884 - accuracy: 0.8207\n",
            "Epoch 151: saving model to model/keypoint_classifier\\keypoint_classifier.hdf5\n",
            "29/29 [==============================] - 0s 4ms/step - loss: 0.4970 - accuracy: 0.8212 - val_loss: 0.1780 - val_accuracy: 0.9733\n",
            "Epoch 151: early stopping\n"
          ]
        },
        {
          "data": {
            "text/plain": [
              "<keras.callbacks.History at 0x17fce146d70>"
            ]
          },
          "execution_count": 67,
          "metadata": {},
          "output_type": "execute_result"
        }
      ],
      "source": [
        "model.fit(\n",
        "    X_train,\n",
        "    y_train,\n",
        "    epochs=1000,\n",
        "    batch_size=128,\n",
        "    validation_data=(X_test, y_test),\n",
        "    callbacks=[cp_callback, es_callback]\n",
        ")"
      ]
    },
    {
      "cell_type": "code",
      "execution_count": 68,
      "metadata": {
        "colab": {
          "base_uri": "https://localhost:8080/"
        },
        "id": "pxvb2Y299hE3",
        "outputId": "59eb3185-2e37-4b9e-bc9d-ab1b8ac29b7f"
      },
      "outputs": [
        {
          "name": "stdout",
          "output_type": "stream",
          "text": [
            "10/10 [==============================] - 0s 2ms/step - loss: 0.1780 - accuracy: 0.9733\n"
          ]
        }
      ],
      "source": [
        "# Model evaluation\n",
        "val_loss, val_acc = model.evaluate(X_test, y_test, batch_size=128)"
      ]
    },
    {
      "cell_type": "code",
      "execution_count": 69,
      "metadata": {
        "id": "RBkmDeUW9hE4"
      },
      "outputs": [],
      "source": [
        "# Loading the saved model\n",
        "model = tf.keras.models.load_model(model_save_path)"
      ]
    },
    {
      "cell_type": "code",
      "execution_count": 70,
      "metadata": {
        "colab": {
          "base_uri": "https://localhost:8080/"
        },
        "id": "tFz9Tb0I9hE4",
        "outputId": "1c3b3528-54ae-4ee2-ab04-77429211cbef"
      },
      "outputs": [
        {
          "name": "stdout",
          "output_type": "stream",
          "text": [
            "1/1 [==============================] - 0s 64ms/step\n",
            "[9.5781225e-01 4.2069450e-02 9.3709255e-05 2.4580195e-05 1.4571944e-08]\n",
            "0\n"
          ]
        }
      ],
      "source": [
        "# Inference test\n",
        "predict_result = model.predict(np.array([X_test[0]]))\n",
        "print(np.squeeze(predict_result))\n",
        "print(np.argmax(np.squeeze(predict_result)))"
      ]
    },
    {
      "cell_type": "markdown",
      "metadata": {
        "id": "S3U4yNWx9hE4"
      },
      "source": [
        "# Confusion matrix"
      ]
    },
    {
      "cell_type": "code",
      "execution_count": 71,
      "metadata": {
        "colab": {
          "base_uri": "https://localhost:8080/",
          "height": 582
        },
        "id": "AP1V6SCk9hE5",
        "outputId": "08e41a80-7a4a-4619-8125-ecc371368d19"
      },
      "outputs": [
        {
          "name": "stdout",
          "output_type": "stream",
          "text": [
            "38/38 [==============================] - 0s 3ms/step\n"
          ]
        },
        {
          "data": {
            "image/png": "[encoded data removed]",
            "text/plain": [
              "<Figure size 700x600 with 2 Axes>"
            ]
          },
          "metadata": {},
          "output_type": "display_data"
        },
        {
          "name": "stdout",
          "output_type": "stream",
          "text": [
            "Classification Report\n",
            "              precision    recall  f1-score   support\n",
            "\n",
            "           0       0.99      0.99      0.99       402\n",
            "           1       0.98      0.94      0.96       366\n",
            "           2       0.94      0.99      0.96       343\n",
            "           3       1.00      1.00      1.00        86\n",
            "\n",
            "    accuracy                           0.97      1197\n",
            "   macro avg       0.98      0.98      0.98      1197\n",
            "weighted avg       0.97      0.97      0.97      1197\n",
            "\n"
          ]
        }
      ],
      "source": [
        "import pandas as pd\n",
        "import seaborn as sns\n",
        "import matplotlib.pyplot as plt\n",
        "from sklearn.metrics import confusion_matrix, classification_report\n",
        "\n",
        "def print_confusion_matrix(y_true, y_pred, report=True):\n",
        "    labels = sorted(list(set(y_true)))\n",
        "    cmx_data = confusion_matrix(y_true, y_pred, labels=labels)\n",
        "    \n",
        "    df_cmx = pd.DataFrame(cmx_data, index=labels, columns=labels)\n",
        " \n",
        "    fig, ax = plt.subplots(figsize=(7, 6))\n",
        "    sns.heatmap(df_cmx, annot=True, fmt='g' ,square=False)\n",
        "    ax.set_ylim(len(set(y_true)), 0)\n",
        "    plt.show()\n",
        "    \n",
        "    if report:\n",
        "        print('Classification Report')\n",
        "        print(classification_report(y_test, y_pred))\n",
        "\n",
        "Y_pred = model.predict(X_test)\n",
        "y_pred = np.argmax(Y_pred, axis=1)\n",
        "\n",
        "print_confusion_matrix(y_test, y_pred)"
      ]
    },
    {
      "cell_type": "markdown",
      "metadata": {
        "id": "FNP6aqzc9hE5"
      },
      "source": [
        "# Convert to model for Tensorflow-Lite"
      ]
    },
    {
      "cell_type": "code",
      "execution_count": null,
      "metadata": {
        "id": "ODjnYyld9hE6"
      },
      "outputs": [],
      "source": [
        "# Save as a model dedicated to inference\n",
        "model.save(model_save_path, include_optimizer=False)"
      ]
    },
    {
      "cell_type": "code",
      "execution_count": null,
      "metadata": {
        "colab": {
          "base_uri": "https://localhost:8080/"
        },
        "id": "zRfuK8Y59hE6",
        "outputId": "a4ca585c-b5d5-4244-8291-8674063209bb"
      },
      "outputs": [
        {
          "name": "stdout",
          "output_type": "stream",
          "text": [
            "INFO:tensorflow:Assets written to: /tmp/tmpe5yx255p/assets\n"
          ]
        },
        {
          "data": {
            "text/plain": [
              "6352"
            ]
          },
          "execution_count": 17,
          "metadata": {
            "tags": []
          },
          "output_type": "execute_result"
        }
      ],
      "source": [
        "# Transform model (quantization)\n",
        "\n",
        "converter = tf.lite.TFLiteConverter.from_keras_model(model)\n",
        "converter.optimizations = [tf.lite.Optimize.DEFAULT]\n",
        "tflite_quantized_model = converter.convert()\n",
        "\n",
        "open(tflite_save_path, 'wb').write(tflite_quantized_model)"
      ]
    },
    {
      "cell_type": "markdown",
      "metadata": {
        "id": "CHBPBXdx9hE6"
      },
      "source": [
        "# Inference test"
      ]
    },
    {
      "cell_type": "code",
      "execution_count": null,
      "metadata": {
        "id": "mGAzLocO9hE7"
      },
      "outputs": [],
      "source": [
        "interpreter = tf.lite.Interpreter(model_path=tflite_save_path)\n",
        "interpreter.allocate_tensors()"
      ]
    },
    {
      "cell_type": "code",
      "execution_count": null,
      "metadata": {
        "id": "oQuDK8YS9hE7"
      },
      "outputs": [],
      "source": [
        "# Get I / O tensor\n",
        "input_details = interpreter.get_input_details()\n",
        "output_details = interpreter.get_output_details()"
      ]
    },
    {
      "cell_type": "code",
      "execution_count": null,
      "metadata": {
        "id": "2_ixAf_l9hE7"
      },
      "outputs": [],
      "source": [
        "interpreter.set_tensor(input_details[0]['index'], np.array([X_test[0]]))"
      ]
    },
    {
      "cell_type": "code",
      "execution_count": null,
      "metadata": {
        "colab": {
          "base_uri": "https://localhost:8080/"
        },
        "id": "s4FoAnuc9hE7",
        "outputId": "91f18257-8d8b-4ef3-c558-e9b5f94fabbf",
        "scrolled": true
      },
      "outputs": [
        {
          "name": "stdout",
          "output_type": "stream",
          "text": [
            "CPU times: user 131 µs, sys: 17 µs, total: 148 µs\n",
            "Wall time: 679 µs\n"
          ]
        }
      ],
      "source": [
        "%%time\n",
        "# Inference implementation\n",
        "interpreter.invoke()\n",
        "tflite_results = interpreter.get_tensor(output_details[0]['index'])"
      ]
    },
    {
      "cell_type": "code",
      "execution_count": null,
      "metadata": {
        "colab": {
          "base_uri": "https://localhost:8080/"
        },
        "id": "vONjp19J9hE8",
        "outputId": "77205e24-fd00-42c4-f7b6-e06e527c2cba"
      },
      "outputs": [
        {
          "name": "stdout",
          "output_type": "stream",
          "text": [
            "[9.8105639e-01 1.8674169e-02 2.2328216e-04 4.6191799e-05]\n",
            "0\n"
          ]
        }
      ],
      "source": [
        "print(np.squeeze(tflite_results))\n",
        "print(np.argmax(np.squeeze(tflite_results)))"
      ]
    }
  ],
  "metadata": {
    "accelerator": "GPU",
    "colab": {
      "collapsed_sections": [],
      "name": "keypoint_classification_EN.ipynb",
      "provenance": [],
      "toc_visible": true
    },
    "kernelspec": {
      "display_name": "Python 3",
      "language": "python",
      "name": "python3"
    },
    "language_info": {
      "codemirror_mode": {
        "name": "ipython",
        "version": 3
      },
      "file_extension": ".py",
      "mimetype": "text/x-python",
      "name": "python",
      "nbconvert_exporter": "python",
      "pygments_lexer": "ipython3",
      "version": "3.10.9"
    },
    "vscode": {
      "interpreter": {
        "hash": "b88c37f39d297e097da8104f95e3067aec44005792861ca611fc8d337c2f43dd"
      }
    }
  },
  "nbformat": 4,
  "nbformat_minor": 0
}
